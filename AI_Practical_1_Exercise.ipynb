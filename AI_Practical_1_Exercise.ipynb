{
  "nbformat": 4,
  "nbformat_minor": 0,
  "metadata": {
    "colab": {
      "name": "AI Practical 1 Exercise",
      "provenance": [],
      "collapsed_sections": [],
      "authorship_tag": "ABX9TyP110Pzl7pUnBep1ZidvTNZ",
      "include_colab_link": true
    },
    "kernelspec": {
      "name": "python3",
      "display_name": "Python 3"
    }
  },
  "cells": [
    {
      "cell_type": "markdown",
      "metadata": {
        "id": "view-in-github",
        "colab_type": "text"
      },
      "source": [
        "<a href=\"https://colab.research.google.com/github/Mlkaz3/AIpractical/blob/main/AI_Practical_1_Exercise.ipynb\" target=\"_parent\"><img src=\"https://colab.research.google.com/assets/colab-badge.svg\" alt=\"Open In Colab\"/></a>"
      ]
    },
    {
      "cell_type": "markdown",
      "metadata": {
        "id": "A8tNWvpD59L3"
      },
      "source": [
        "To commit changes to github through google drive, colab. Check it out!\r\n",
        "https://medium.com/analytics-vidhya/how-to-use-private-github-repositories-with-google-colab-f7fb0958f47c"
      ]
    },
    {
      "cell_type": "markdown",
      "metadata": {
        "id": "EwkY9SlpUDGc"
      },
      "source": [
        "Question 1"
      ]
    },
    {
      "cell_type": "code",
      "metadata": {
        "colab": {
          "base_uri": "https://localhost:8080/",
          "height": 527
        },
        "id": "8zj6TVtaTtEA",
        "outputId": "fb73f81d-0a70-412d-97da-46faef547405"
      },
      "source": [
        "import math\r\n",
        "\r\n",
        "pi = math.pi\r\n",
        "\r\n",
        "def volume(r,h):\r\n",
        "  pi = math.pi\r\n",
        "  vol = pi * (r**2)* h \r\n",
        "  print(\"Volume is \",vol)\r\n",
        "  \r\n",
        "x= input(\"Enter radius:\"\r\n",
        "y =input(\"Enter height:\")\r\n",
        "\r\n",
        "volume(int(x),int(y))"
      ],
      "execution_count": 137,
      "outputs": [
        {
          "output_type": "error",
          "ename": "KeyboardInterrupt",
          "evalue": "ignored",
          "traceback": [
            "\u001b[0;31m---------------------------------------------------------------------------\u001b[0m",
            "\u001b[0;31mKeyboardInterrupt\u001b[0m                         Traceback (most recent call last)",
            "\u001b[0;32m/usr/local/lib/python3.6/dist-packages/ipykernel/kernelbase.py\u001b[0m in \u001b[0;36m_input_request\u001b[0;34m(self, prompt, ident, parent, password)\u001b[0m\n\u001b[1;32m    728\u001b[0m             \u001b[0;32mtry\u001b[0m\u001b[0;34m:\u001b[0m\u001b[0;34m\u001b[0m\u001b[0;34m\u001b[0m\u001b[0m\n\u001b[0;32m--> 729\u001b[0;31m                 \u001b[0mident\u001b[0m\u001b[0;34m,\u001b[0m \u001b[0mreply\u001b[0m \u001b[0;34m=\u001b[0m \u001b[0mself\u001b[0m\u001b[0;34m.\u001b[0m\u001b[0msession\u001b[0m\u001b[0;34m.\u001b[0m\u001b[0mrecv\u001b[0m\u001b[0;34m(\u001b[0m\u001b[0mself\u001b[0m\u001b[0;34m.\u001b[0m\u001b[0mstdin_socket\u001b[0m\u001b[0;34m,\u001b[0m \u001b[0;36m0\u001b[0m\u001b[0;34m)\u001b[0m\u001b[0;34m\u001b[0m\u001b[0;34m\u001b[0m\u001b[0m\n\u001b[0m\u001b[1;32m    730\u001b[0m             \u001b[0;32mexcept\u001b[0m \u001b[0mException\u001b[0m\u001b[0;34m:\u001b[0m\u001b[0;34m\u001b[0m\u001b[0;34m\u001b[0m\u001b[0m\n",
            "\u001b[0;32m/usr/local/lib/python3.6/dist-packages/jupyter_client/session.py\u001b[0m in \u001b[0;36mrecv\u001b[0;34m(self, socket, mode, content, copy)\u001b[0m\n\u001b[1;32m    802\u001b[0m         \u001b[0;32mtry\u001b[0m\u001b[0;34m:\u001b[0m\u001b[0;34m\u001b[0m\u001b[0;34m\u001b[0m\u001b[0m\n\u001b[0;32m--> 803\u001b[0;31m             \u001b[0mmsg_list\u001b[0m \u001b[0;34m=\u001b[0m \u001b[0msocket\u001b[0m\u001b[0;34m.\u001b[0m\u001b[0mrecv_multipart\u001b[0m\u001b[0;34m(\u001b[0m\u001b[0mmode\u001b[0m\u001b[0;34m,\u001b[0m \u001b[0mcopy\u001b[0m\u001b[0;34m=\u001b[0m\u001b[0mcopy\u001b[0m\u001b[0;34m)\u001b[0m\u001b[0;34m\u001b[0m\u001b[0;34m\u001b[0m\u001b[0m\n\u001b[0m\u001b[1;32m    804\u001b[0m         \u001b[0;32mexcept\u001b[0m \u001b[0mzmq\u001b[0m\u001b[0;34m.\u001b[0m\u001b[0mZMQError\u001b[0m \u001b[0;32mas\u001b[0m \u001b[0me\u001b[0m\u001b[0;34m:\u001b[0m\u001b[0;34m\u001b[0m\u001b[0;34m\u001b[0m\u001b[0m\n",
            "\u001b[0;32m/usr/local/lib/python3.6/dist-packages/zmq/sugar/socket.py\u001b[0m in \u001b[0;36mrecv_multipart\u001b[0;34m(self, flags, copy, track)\u001b[0m\n\u001b[1;32m    565\u001b[0m         \"\"\"\n\u001b[0;32m--> 566\u001b[0;31m         \u001b[0mparts\u001b[0m \u001b[0;34m=\u001b[0m \u001b[0;34m[\u001b[0m\u001b[0mself\u001b[0m\u001b[0;34m.\u001b[0m\u001b[0mrecv\u001b[0m\u001b[0;34m(\u001b[0m\u001b[0mflags\u001b[0m\u001b[0;34m,\u001b[0m \u001b[0mcopy\u001b[0m\u001b[0;34m=\u001b[0m\u001b[0mcopy\u001b[0m\u001b[0;34m,\u001b[0m \u001b[0mtrack\u001b[0m\u001b[0;34m=\u001b[0m\u001b[0mtrack\u001b[0m\u001b[0;34m)\u001b[0m\u001b[0;34m]\u001b[0m\u001b[0;34m\u001b[0m\u001b[0;34m\u001b[0m\u001b[0m\n\u001b[0m\u001b[1;32m    567\u001b[0m         \u001b[0;31m# have first part already, only loop while more to receive\u001b[0m\u001b[0;34m\u001b[0m\u001b[0;34m\u001b[0m\u001b[0;34m\u001b[0m\u001b[0m\n",
            "\u001b[0;32mzmq/backend/cython/socket.pyx\u001b[0m in \u001b[0;36mzmq.backend.cython.socket.Socket.recv\u001b[0;34m()\u001b[0m\n",
            "\u001b[0;32mzmq/backend/cython/socket.pyx\u001b[0m in \u001b[0;36mzmq.backend.cython.socket.Socket.recv\u001b[0;34m()\u001b[0m\n",
            "\u001b[0;32mzmq/backend/cython/socket.pyx\u001b[0m in \u001b[0;36mzmq.backend.cython.socket._recv_copy\u001b[0;34m()\u001b[0m\n",
            "\u001b[0;32m/usr/local/lib/python3.6/dist-packages/zmq/backend/cython/checkrc.pxd\u001b[0m in \u001b[0;36mzmq.backend.cython.checkrc._check_rc\u001b[0;34m()\u001b[0m\n",
            "\u001b[0;31mKeyboardInterrupt\u001b[0m: ",
            "\nDuring handling of the above exception, another exception occurred:\n",
            "\u001b[0;31mKeyboardInterrupt\u001b[0m                         Traceback (most recent call last)",
            "\u001b[0;32m<ipython-input-137-1b8e3dc32818>\u001b[0m in \u001b[0;36m<module>\u001b[0;34m()\u001b[0m\n\u001b[1;32m      8\u001b[0m   \u001b[0mprint\u001b[0m\u001b[0;34m(\u001b[0m\u001b[0;34m\"Volume is \"\u001b[0m\u001b[0;34m,\u001b[0m\u001b[0mvol\u001b[0m\u001b[0;34m)\u001b[0m\u001b[0;34m\u001b[0m\u001b[0;34m\u001b[0m\u001b[0m\n\u001b[1;32m      9\u001b[0m \u001b[0;34m\u001b[0m\u001b[0m\n\u001b[0;32m---> 10\u001b[0;31m \u001b[0mx\u001b[0m\u001b[0;34m=\u001b[0m \u001b[0minput\u001b[0m\u001b[0;34m(\u001b[0m\u001b[0;34m\"Enter radius:\"\u001b[0m\u001b[0;34m)\u001b[0m\u001b[0;34m\u001b[0m\u001b[0;34m\u001b[0m\u001b[0m\n\u001b[0m\u001b[1;32m     11\u001b[0m \u001b[0my\u001b[0m \u001b[0;34m=\u001b[0m\u001b[0minput\u001b[0m\u001b[0;34m(\u001b[0m\u001b[0;34m\"Enter height:\"\u001b[0m\u001b[0;34m)\u001b[0m\u001b[0;34m\u001b[0m\u001b[0;34m\u001b[0m\u001b[0m\n\u001b[1;32m     12\u001b[0m \u001b[0;34m\u001b[0m\u001b[0m\n",
            "\u001b[0;32m/usr/local/lib/python3.6/dist-packages/ipykernel/kernelbase.py\u001b[0m in \u001b[0;36mraw_input\u001b[0;34m(self, prompt)\u001b[0m\n\u001b[1;32m    702\u001b[0m             \u001b[0mself\u001b[0m\u001b[0;34m.\u001b[0m\u001b[0m_parent_ident\u001b[0m\u001b[0;34m,\u001b[0m\u001b[0;34m\u001b[0m\u001b[0;34m\u001b[0m\u001b[0m\n\u001b[1;32m    703\u001b[0m             \u001b[0mself\u001b[0m\u001b[0;34m.\u001b[0m\u001b[0m_parent_header\u001b[0m\u001b[0;34m,\u001b[0m\u001b[0;34m\u001b[0m\u001b[0;34m\u001b[0m\u001b[0m\n\u001b[0;32m--> 704\u001b[0;31m             \u001b[0mpassword\u001b[0m\u001b[0;34m=\u001b[0m\u001b[0;32mFalse\u001b[0m\u001b[0;34m,\u001b[0m\u001b[0;34m\u001b[0m\u001b[0;34m\u001b[0m\u001b[0m\n\u001b[0m\u001b[1;32m    705\u001b[0m         )\n\u001b[1;32m    706\u001b[0m \u001b[0;34m\u001b[0m\u001b[0m\n",
            "\u001b[0;32m/usr/local/lib/python3.6/dist-packages/ipykernel/kernelbase.py\u001b[0m in \u001b[0;36m_input_request\u001b[0;34m(self, prompt, ident, parent, password)\u001b[0m\n\u001b[1;32m    732\u001b[0m             \u001b[0;32mexcept\u001b[0m \u001b[0mKeyboardInterrupt\u001b[0m\u001b[0;34m:\u001b[0m\u001b[0;34m\u001b[0m\u001b[0;34m\u001b[0m\u001b[0m\n\u001b[1;32m    733\u001b[0m                 \u001b[0;31m# re-raise KeyboardInterrupt, to truncate traceback\u001b[0m\u001b[0;34m\u001b[0m\u001b[0;34m\u001b[0m\u001b[0;34m\u001b[0m\u001b[0m\n\u001b[0;32m--> 734\u001b[0;31m                 \u001b[0;32mraise\u001b[0m \u001b[0mKeyboardInterrupt\u001b[0m\u001b[0;34m\u001b[0m\u001b[0;34m\u001b[0m\u001b[0m\n\u001b[0m\u001b[1;32m    735\u001b[0m             \u001b[0;32melse\u001b[0m\u001b[0;34m:\u001b[0m\u001b[0;34m\u001b[0m\u001b[0;34m\u001b[0m\u001b[0m\n\u001b[1;32m    736\u001b[0m                 \u001b[0;32mbreak\u001b[0m\u001b[0;34m\u001b[0m\u001b[0;34m\u001b[0m\u001b[0m\n",
            "\u001b[0;31mKeyboardInterrupt\u001b[0m: "
          ]
        }
      ]
    },
    {
      "cell_type": "markdown",
      "metadata": {
        "id": "JunRkK2JW4Ey"
      },
      "source": [
        "Question 2"
      ]
    },
    {
      "cell_type": "code",
      "metadata": {
        "id": "IKAGOH5cUcv4"
      },
      "source": [
        "#calculateMouseSpeed\r\n",
        "def calculateMouseSpeed(first,second,ms):\r\n",
        "  distance = math.sqrt(pow((second[0]-first[0]),2)+pow((second[1]-first[1]),2))\r\n",
        "  speed = distance/ms\r\n",
        "  return speed\r\n",
        "\r\n",
        "#using time \r\n",
        "import time\r\n",
        "start = time.time()\r\n",
        "\r\n",
        "#random mouse position(tuple)\r\n",
        "#within screen resolution(1280,800)\r\n",
        "import random\r\n",
        "first = (random.randint(0, 1280),random.randint(0, 800))\r\n",
        "second = (random.randint(0, 1280),random.randint(0, 800))\r\n",
        "\r\n",
        "#ending time \r\n",
        "end = time.time()\r\n",
        "\r\n",
        "#calculate time used\r\n",
        "#duration = end-start+1\r\n",
        "ms = end - start + 1\r\n",
        "\r\n",
        "#Output\r\n",
        "print(\"Mouse Speed is\",calculateMouseSpeed(first,second,ms))\r\n"
      ],
      "execution_count": null,
      "outputs": []
    },
    {
      "cell_type": "markdown",
      "metadata": {
        "id": "zKzvFR4m9Phs"
      },
      "source": [
        "Question 3\r\n"
      ]
    },
    {
      "cell_type": "code",
      "metadata": {
        "id": "0iuyi6o7sXKm"
      },
      "source": [
        "#using time \r\n",
        "import time\r\n",
        "start = time.time()\r\n",
        "\r\n",
        "#random mouse position(tuple list)\r\n",
        "coordinatesList = []\r\n",
        "#within screen resolution(1280,800)\r\n",
        "#10 times \r\n",
        "for x in range(0, 10):\r\n",
        "  coordinate = (random.randint(0, 1280),random.randint(0, 800))\r\n",
        "  coordinatesList.append(coordinate)\r\n",
        "  time.sleep(1)\r\n",
        "  \r\n",
        "#ending time when the loops end \r\n",
        "end = time.time()\r\n",
        "\r\n",
        "#calculate time used\r\n",
        "#duration = end-start+1\r\n",
        "duration = end - start + 1\r\n",
        "\r\n",
        "#function \r\n",
        "def calculateMouseSpeed(coordinatesList,duration):\r\n",
        "  #idk how to calculate total distance!!! \r\n",
        "  #understand: there will be 9 distances for 10 coordinates, \r\n",
        "  #which mean 9 times of calculating the distance\r\n",
        "  #using for loop \r\n",
        "  total_distance=0\r\n",
        "  for x in range(0,9):\r\n",
        "    first = coordinatesList[x]\r\n",
        "    second = coordinatesList[x+1]\r\n",
        "    distance = math.sqrt(pow((second[0]-first[0]),2)+pow((second[1]-first[1]),2))\r\n",
        "    total_distance += distance\r\n",
        "\r\n",
        "  avg_speed = total_distance/duration\r\n",
        "  return avg_speed\r\n",
        "\r\n",
        "#Output\r\n",
        "calculateMouseSpeed(coordinatesList,duration)"
      ],
      "execution_count": null,
      "outputs": []
    },
    {
      "cell_type": "markdown",
      "metadata": {
        "id": "tiE2rQsLT11R"
      },
      "source": [
        "Question 4"
      ]
    },
    {
      "cell_type": "code",
      "metadata": {
        "id": "E9nNSrChatEm"
      },
      "source": [
        "def mastermind(): \r\n",
        "  #The function shall limit only 10 trials per game. If the user successfully breaks the code\r\n",
        "  #within the 10 trials, display “Congratulation”, otherwise display “You lose”.\r\n",
        "  chances = 2\r\n",
        "  \r\n",
        "  CODES = set(['green', 'cyan', 'red', 'purple', 'blue', 'orange'])\r\n",
        "\r\n",
        "  #If we pass Set object directly to the choice function we will get the TypeError: ‘set’ object does not support indexing.\r\n",
        "  #Using the random.choice function we can’t choose random items directly from a set, without having to copy it into a tuple.\r\n",
        "  answer = random.choices(tuple(CODES),k=4)\r\n",
        "  print(answer)\r\n",
        "\r\n",
        "  while chances!=0:\r\n",
        "    count = 0\r\n",
        "    color1 = input(\"Enter 1st color \")\r\n",
        "    color2 = input(\"Enter 2nd color \")\r\n",
        "    color3 = input(\"Enter 3rd color \")\r\n",
        "    color4 = input(\"Enter 4th color \")\r\n",
        "\r\n",
        "  #i wanna use set for guess, but it will remove the duplicate value instead of storing it's postition \r\n",
        "    guess = [color1,color2,color3,color4]\r\n",
        "    #print(guess)\r\n",
        "\r\n",
        "    print(\"\")\r\n",
        "\r\n",
        "  #checking to display output \"Black\" and \"White\" or \"\"\r\n",
        "  #Display 'black' if an item has the right colour and is placed at the right place;\r\n",
        "  #display 'white' if a correct color code item placed in the wrong position.\r\n",
        "  #Otherwise, display nothing.\r\n",
        "    for x in range(0,4):\r\n",
        "      if answer[x] == guess[x]:\r\n",
        "        print('black')\r\n",
        "      elif guess[x] in answer:\r\n",
        "        print('white')\r\n",
        "        count +=1\r\n",
        "      else:\r\n",
        "        print('')\r\n",
        "        count +=1\r\n",
        "\r\n",
        "    if count == 0:\r\n",
        "      print(\"\\nCongratulations\")\r\n",
        "      break\r\n",
        "\r\n",
        "\r\n",
        "    else:\r\n",
        "      chances-=1\r\n",
        "      if chances==0:\r\n",
        "        print(\"You lose\")\r\n",
        "      else:\r\n",
        "        print(\"Hmm.. there's incorrect guessing. Try again!\")\r\n",
        "\r\n",
        " \r\n",
        "\r\n",
        "#Write a program that asks a user to enter 4 colour codes based on the fixed set of colours, and\r\n",
        "#calls the mastermind function. After the execution of the mastermind function, prompt the\r\n",
        "#user whether s/he likes to try another round. If s/he likes to continue, restart the game with\r\n",
        "#different series of colours, otherwise stop the program.\r\n",
        "round = 0\r\n",
        "mastermind()\r\n",
        "while round==0: \r\n",
        "  again = input(\"Would you like to play for another round? (Y/N)\")\r\n",
        "  if again.upper()==\"Y\":\r\n",
        "    mastermind()g\r\n",
        "  else:\r\n",
        "    print(\"Thanks for playing! Hope you enjoy the game~\")\r\n",
        "    break\r\n"
      ],
      "execution_count": null,
      "outputs": []
    }
  ]
}